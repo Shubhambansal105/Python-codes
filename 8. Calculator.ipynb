{
 "cells": [
  {
   "cell_type": "code",
   "execution_count": null,
   "id": "ba3ce8d5-e123-4af3-8f85-416cfeb49de9",
   "metadata": {},
   "outputs": [],
   "source": [
    "#Calculator - A simple calculator to do basic operators. Make it a scientific calculator for added complexity."
   ]
  },
  {
   "cell_type": "code",
   "execution_count": null,
   "id": "629f25be-2965-4314-9de1-240811fcf83d",
   "metadata": {},
   "outputs": [],
   "source": [
    "import math\n",
    "def calculator():\n",
    "    op= ''\n",
    "    while op not in ('*','/','+','-','^','%','inv','cos','sin'):\n",
    "        op = input('Enter any operation among (*,/,+,-,^,%,inv,cos,sin)')\n",
    "\n",
    "    if op in ('*','/','+','-','^','%'):\n",
    "        a = float(input(' Enter the first number : '))\n",
    "        b = float(input(' Enter the second number : '))\n",
    "    elif op in ('inv','cos','sin'):\n",
    "        a = float(input(' Enter the first number : '))\n",
    "        \n",
    "        \n",
    "    if op== '+':\n",
    "        print(f'{a} + {b} = {round(a+b,2)}')\n",
    "        return round(a+b,2)\n",
    "    elif op== '-':\n",
    "        print(f'{a} - {b} = {round(a-b,2)}')\n",
    "        return round(a-b,2)\n",
    "    elif op== '*':\n",
    "        print(f'{a} * {b} = {round(a*b,2)}')\n",
    "        return round(a*b,2)\n",
    "    elif op== '/':\n",
    "        print(f'{a} / {b} = {round(a/b,2)}')\n",
    "        return round(a/b,2)\n",
    "    elif op== '^':\n",
    "        print(f'{a} ^ {b} = {round(a**b,2)}')\n",
    "        return round(a**b,2)\n",
    "    elif op== '%':\n",
    "        print(f'{a} % {b} = {round(100*a/b,2)}%')\n",
    "        return round(100*a/b,2)\n",
    "    elif op== 'inv':\n",
    "        print(f'1/{a} = {round(1/a,2)}')\n",
    "        return round(1/a,2)\n",
    "    elif op== 'cos':\n",
    "        print(f'cos({a}) = {round(math.cos(a),3)}')\n",
    "        return round(math.cos(a),3)\n",
    "    elif op== 'sin':\n",
    "        print(f'sin({a}) = {round(math.sin(a),3)}')\n",
    "        return round(math.sin(a),3)\n",
    "        \n",
    "calculator()\n",
    " "
   ]
  }
 ],
 "metadata": {
  "kernelspec": {
   "display_name": "Python 3 (ipykernel)",
   "language": "python",
   "name": "python3"
  },
  "language_info": {
   "codemirror_mode": {
    "name": "ipython",
    "version": 3
   },
   "file_extension": ".py",
   "mimetype": "text/x-python",
   "name": "python",
   "nbconvert_exporter": "python",
   "pygments_lexer": "ipython3",
   "version": "3.12.4"
  }
 },
 "nbformat": 4,
 "nbformat_minor": 5
}
