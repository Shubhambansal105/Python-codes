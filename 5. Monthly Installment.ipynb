{
 "cells": [
  {
   "cell_type": "code",
   "execution_count": null,
   "id": "b9adceb1-70d9-4aca-ac61-090db4410261",
   "metadata": {},
   "outputs": [],
   "source": [
    "#Mortgage Calculator - Calculate the monthly payments of a fixed term mortgage over given Nth terms at a given interest rate. \n",
    "#Also figure out how long it will take the user to pay back the loan. For added complexity, \n",
    "#add an option for users to select the compounding interval (Monthly, Weekly, Daily, Continually)."
   ]
  },
  {
   "cell_type": "code",
   "execution_count": null,
   "id": "b9d11412-cca9-41be-af2e-c20f80630adf",
   "metadata": {},
   "outputs": [],
   "source": [
    "def monthly_payment():\n",
    "    monthly_installment= 0\n",
    "    principle = float(input('principle amount'))\n",
    "    interest_rate = float(input('Interest Rate: '))\n",
    "    period = float(input(' Time in years: '))\n",
    "    y = input('Compounding interval- Yearly, Monthly, Weekly, Daily ?').lower()\n",
    "    while y not in ('yearly', 'monthly', 'weekly', 'daily', 'continually'):\n",
    "        print(' Please enter correct value')\n",
    "        y = input('Compounding interval- Yearly, Monthly, Weekly, Daily ?').lower()\n",
    "    \n",
    "    if y == 'monthly':\n",
    "        period = period*12\n",
    "        interest_rate= interest_rate/12\n",
    "    elif y == 'weekly':\n",
    "        period = period*52\n",
    "        interest_rate= interest_rate/52\n",
    "    elif y == 'daily':\n",
    "        period = period*365\n",
    "        interest_rate= interest_rate/365\n",
    "\n",
    "    monthly_installment = round((principle*interest_rate*(1+interest_rate)**period)/((1+interest_rate)**period-1),2)\n",
    "    if y == 'monthly':\n",
    "        print(f'monthly installment: {monthly_installment}')\n",
    "    elif y == 'weekly':\n",
    "        print(f'Weekly installment: {monthly_installment}')\n",
    "    elif y == 'daily':\n",
    "        print(f'Daily installment: {monthly_installment}')\n",
    "    elif y == 'yearly':\n",
    "        print(f'Yearly installment: {monthly_installment}')\n",
    "    \n",
    "    print(monthly_installment)\n",
    "\n",
    "installment= monthly_payment()"
   ]
  },
  {
   "cell_type": "code",
   "execution_count": null,
   "id": "c4e3f247-fc11-420f-9f6f-417ca64ee270",
   "metadata": {},
   "outputs": [],
   "source": []
  }
 ],
 "metadata": {
  "kernelspec": {
   "display_name": "Python 3 (ipykernel)",
   "language": "python",
   "name": "python3"
  },
  "language_info": {
   "codemirror_mode": {
    "name": "ipython",
    "version": 3
   },
   "file_extension": ".py",
   "mimetype": "text/x-python",
   "name": "python",
   "nbconvert_exporter": "python",
   "pygments_lexer": "ipython3",
   "version": "3.12.4"
  }
 },
 "nbformat": 4,
 "nbformat_minor": 5
}
