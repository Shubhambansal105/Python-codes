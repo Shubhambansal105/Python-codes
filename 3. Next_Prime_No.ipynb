{
 "cells": [
  {
   "cell_type": "code",
   "execution_count": null,
   "id": "9108bba6-4c95-4c74-a2c6-34893500b2a1",
   "metadata": {},
   "outputs": [],
   "source": [
    "#Next Prime Number - Have the program find prime numbers until the user chooses to stop asking for the next one."
   ]
  },
  {
   "cell_type": "code",
   "execution_count": 21,
   "id": "f0d71381-6ad4-4318-83ea-82ac4a1dd36a",
   "metadata": {},
   "outputs": [],
   "source": [
    "def choose():\n",
    "    y= input('Do you want a prime no. Yes/No').lower()\n",
    "    while y.isalpha == False or y not in ('yes', 'no'):\n",
    "            y = input('Invalid input. Enter Yes/No.').lower()\n",
    "    if y == 'yes':\n",
    "        return True\n",
    "    else:\n",
    "        return False\n",
    "        \n",
    "def prime_number(y):\n",
    "    prime= True\n",
    "    for num in range(2,y):\n",
    "        if y% num == 0:\n",
    "            prime = False\n",
    "            break\n",
    "    return prime\n",
    "\n",
    "def next_prime_number():\n",
    "    prime_list = [2]\n",
    "    number = prime_list[-1]+1\n",
    "    print('The first prime no. is 2')\n",
    "    while choose()== True:\n",
    "        while prime_number(number)== False:\n",
    "            number += 1\n",
    "        if prime_number(number)== True:\n",
    "            prime_list.append(number)\n",
    "            print(f'The new prime number is {number}') \n",
    "            print()\n",
    "            number += 1\n",
    "            continue  "
   ]
  }
 ],
 "metadata": {
  "kernelspec": {
   "display_name": "Python 3 (ipykernel)",
   "language": "python",
   "name": "python3"
  },
  "language_info": {
   "codemirror_mode": {
    "name": "ipython",
    "version": 3
   },
   "file_extension": ".py",
   "mimetype": "text/x-python",
   "name": "python",
   "nbconvert_exporter": "python",
   "pygments_lexer": "ipython3",
   "version": "3.12.4"
  }
 },
 "nbformat": 4,
 "nbformat_minor": 5
}
