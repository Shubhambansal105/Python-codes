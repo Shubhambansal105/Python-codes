{
 "cells": [
  {
   "cell_type": "code",
   "execution_count": null,
   "id": "8dc5ed59-5d9b-46e1-b57f-295e811e6f00",
   "metadata": {},
   "outputs": [],
   "source": [
    "#Fibonacci Sequence - Enter a number and have the program generate the Fibonacci sequence to that number \n",
    "#or to the Nth number."
   ]
  },
  {
   "cell_type": "code",
   "execution_count": null,
   "id": "0a5329e6-8f9e-422f-92bf-7013c8cb8363",
   "metadata": {},
   "outputs": [],
   "source": [
    "def fibonacci_sequence():\n",
    "    digit = 0\n",
    "    list = [0,1]\n",
    "    y = ''\n",
    "    while y.isdigit() == False:\n",
    "        y = input('Enter the numbers you want in sequence')\n",
    "        if y.isdigit() == False:\n",
    "            print('Please enter a number only')\n",
    "            print()\n",
    "    y=int(y)\n",
    "    while  y <=1:\n",
    "        print(' Enter a number greater than 1')\n",
    "        y = int(input('Enter the numbers you want in sequence'))\n",
    "        \n",
    "    for num in range(2,y):\n",
    "        digit = list[num-1]+list[num-2]\n",
    "        list.append(digit)\n",
    "    return(list)\n",
    "\n",
    "k = fibonacci_sequence()\n",
    "print(k)"
   ]
  },
  {
   "cell_type": "code",
   "execution_count": null,
   "id": "34c303db-9cfd-4632-9cac-29cad2f004ab",
   "metadata": {},
   "outputs": [],
   "source": []
  }
 ],
 "metadata": {
  "kernelspec": {
   "display_name": "Python 3 (ipykernel)",
   "language": "python",
   "name": "python3"
  },
  "language_info": {
   "codemirror_mode": {
    "name": "ipython",
    "version": 3
   },
   "file_extension": ".py",
   "mimetype": "text/x-python",
   "name": "python",
   "nbconvert_exporter": "python",
   "pygments_lexer": "ipython3",
   "version": "3.12.4"
  }
 },
 "nbformat": 4,
 "nbformat_minor": 5
}
