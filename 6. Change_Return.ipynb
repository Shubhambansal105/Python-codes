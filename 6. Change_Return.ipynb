{
 "cells": [
  {
   "cell_type": "code",
   "execution_count": null,
   "id": "c8c318ed-da7d-4410-ac0f-8349e10e718e",
   "metadata": {},
   "outputs": [],
   "source": [
    "#Change Return Program - The user enters a cost and then the amount of money given.\n",
    "#The program will figure out the change and the number of quarters, dimes, nickels, pennies needed for the change."
   ]
  },
  {
   "cell_type": "code",
   "execution_count": null,
   "id": "bd7c3e4b-ee9f-4859-8c62-7b274fde3fa5",
   "metadata": {},
   "outputs": [],
   "source": [
    "import math\n",
    "def change_return():\n",
    "    y = float(input('enter the cost of materials purchased: '))\n",
    "    print(y)\n",
    "    z = float(input('enter the amount of money given: '))\n",
    "\n",
    "    x = round(z-y,2)\n",
    "    print(x)\n",
    "    dollar = math.floor(x)\n",
    "    quarters = math.floor((x-dollar)/0.25)\n",
    "    dimes = math.floor((x-dollar-quarters*0.25)/0.1)\n",
    "    nickles = math.floor((x-dollar-quarters*0.25-dimes*0.1)/0.05)\n",
    "    pennies = math.floor((x-dollar-quarters*0.25-dimes*0.1-nickles*0.05)/0.01)\n",
    "\n",
    "    print('Return change:')\n",
    "    print(f'Dollar: {dollar}')\n",
    "    print(f'Quarters: {quarters}')\n",
    "    print(f'Dimes: {dimes}')\n",
    "    print(f'Nickles: {nickles}')\n",
    "    print(f'Pennies: {pennies}')\n",
    "\n",
    "change = change_return()\n",
    "    "
   ]
  },
  {
   "cell_type": "code",
   "execution_count": null,
   "id": "db11a5e4-1509-47d6-b1a4-07af1f365a35",
   "metadata": {},
   "outputs": [],
   "source": []
  }
 ],
 "metadata": {
  "kernelspec": {
   "display_name": "Python 3 (ipykernel)",
   "language": "python",
   "name": "python3"
  },
  "language_info": {
   "codemirror_mode": {
    "name": "ipython",
    "version": 3
   },
   "file_extension": ".py",
   "mimetype": "text/x-python",
   "name": "python",
   "nbconvert_exporter": "python",
   "pygments_lexer": "ipython3",
   "version": "3.12.4"
  }
 },
 "nbformat": 4,
 "nbformat_minor": 5
}
