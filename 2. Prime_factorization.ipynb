{
 "cells": [
  {
   "cell_type": "code",
   "execution_count": null,
   "id": "307c7dea-82c9-497b-9547-032688e27e92",
   "metadata": {},
   "outputs": [],
   "source": [
    "#Prime Factorization - Have the user enter a number and find all Prime Factors (if there are any) and display them."
   ]
  },
  {
   "cell_type": "code",
   "execution_count": 72,
   "id": "09759db1-8103-48e9-aa6b-97f3f3e019d1",
   "metadata": {},
   "outputs": [
    {
     "name": "stdin",
     "output_type": "stream",
     "text": [
      "Please enter the Number 32\n"
     ]
    },
    {
     "name": "stdout",
     "output_type": "stream",
     "text": [
      "List of Factors: [2, 4, 8, 16, 32]\n",
      "List of prime factors: [2]\n"
     ]
    }
   ],
   "source": [
    "def factors():\n",
    "    factor = []\n",
    "    y = int(input('Please enter the Number'))\n",
    "    for num in range(2,y):\n",
    "        if y%num == 0:\n",
    "            factor.append(num)\n",
    "    factor.append(y)    \n",
    "    print(f'List of Factors: {factor}')\n",
    "    return factor\n",
    "    \n",
    "def prime_factors():\n",
    "    \n",
    "    prime_factor_list = []\n",
    "    all_factors = factors()\n",
    "    if 2 in all_factors:\n",
    "        prime_factor_list.append(2)\n",
    "        all_factors.pop(0)\n",
    "\n",
    "    for digit in all_factors[::]:\n",
    "        prime = True\n",
    "        for num in range(2,digit):\n",
    "            if digit%num ==0:\n",
    "                prime = False\n",
    "                break       \n",
    "        if prime == True:\n",
    "            prime_factor_list.append(digit)\n",
    "            \n",
    "    print(f'List of prime factors: {prime_factor_list}')        \n",
    "    return prime_factor_list\n",
    "\n",
    "\n",
    "k = prime_factors()\n"
   ]
  },
  {
   "cell_type": "code",
   "execution_count": 40,
   "id": "c8fef8ef-9b4d-4cb8-882f-3423a58f2b09",
   "metadata": {},
   "outputs": [
    {
     "data": {
      "text/plain": [
       "0"
      ]
     },
     "execution_count": 40,
     "metadata": {},
     "output_type": "execute_result"
    }
   ],
   "source": [
    "6%2"
   ]
  },
  {
   "cell_type": "code",
   "execution_count": null,
   "id": "61a49b33-825d-4272-b6d4-846c1d53df05",
   "metadata": {},
   "outputs": [],
   "source": []
  }
 ],
 "metadata": {
  "kernelspec": {
   "display_name": "Python 3 (ipykernel)",
   "language": "python",
   "name": "python3"
  },
  "language_info": {
   "codemirror_mode": {
    "name": "ipython",
    "version": 3
   },
   "file_extension": ".py",
   "mimetype": "text/x-python",
   "name": "python",
   "nbconvert_exporter": "python",
   "pygments_lexer": "ipython3",
   "version": "3.12.4"
  }
 },
 "nbformat": 4,
 "nbformat_minor": 5
}
