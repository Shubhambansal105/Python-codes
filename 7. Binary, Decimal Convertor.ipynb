{
 "cells": [
  {
   "cell_type": "code",
   "execution_count": null,
   "id": "a4ab6b18-020e-45fc-a4f5-9e4467ee1d28",
   "metadata": {},
   "outputs": [],
   "source": [
    "#Binary to Decimal and Back Converter - \n",
    "#Develop a converter to convert a decimal number to binary or a binary number to its decimal equivalent."
   ]
  },
  {
   "cell_type": "code",
   "execution_count": null,
   "id": "c9e592c5-6c45-42f0-ac52-e808e46a97fa",
   "metadata": {},
   "outputs": [],
   "source": [
    "import math\n",
    "def binary_to_decimal():\n",
    "    binary =False\n",
    "    while binary == False:\n",
    "        y = input('Please enter the binary number')\n",
    "        #digit Check\n",
    "        while y.isdigit()== False:\n",
    "            y = input('You have entered wrong number. Please enter the binary number again')\n",
    "        # binary check \n",
    "        for num in y:\n",
    "            if num not in ('0','1'):\n",
    "                binary = False\n",
    "                print('The entered number is not binary')\n",
    "                break \n",
    "            elif num in ('0','1'):\n",
    "                binary = True\n",
    "                continue         \n",
    "    z = len(y)\n",
    "    decimal_number = 0\n",
    "    for num in range(z):\n",
    "        decimal_number += int(y[num])*(2**(z-num-1))\n",
    "    print(f'For binary no. {y}, The decimal no. is {decimal_number}')\n",
    "    return decimal_number\n",
    "\n",
    "def decimal_to_binary():\n",
    "    y = input('Please enter the decimal number')\n",
    "        #digit Check\n",
    "    while y.isdigit()== False:\n",
    "        y = input('You have entered wrong number. Please enter the decimal number again')\n",
    "    binary = []\n",
    "    remainder = int(y)\n",
    "    while remainder not in (0,1):\n",
    "        binary.append(str(remainder%2))\n",
    "        remainder = math.floor(remainder/2)\n",
    "        if remainder in (0,1):\n",
    "            binary.append(str(remainder))\n",
    "\n",
    "    binary_number = ''.join(binary[::-1])\n",
    "    print(f'For decimal no. {y}, The Binary no. is {binary_number}')\n",
    "    return binary_number\n",
    "    \n",
    "\n",
    "k= input('If you want to convert decimal to Binary Enter (1) else enter (2)')\n",
    "while k.isdigit() == False or k not in ('1','2'):\n",
    "        k = input('You have entered wrong number. Please enter the decimal number again')\n",
    "if k == '1':\n",
    "    decimal_to_binary()\n",
    "elif k == '2':\n",
    "    binary_to_decimal()"
   ]
  },
  {
   "cell_type": "code",
   "execution_count": null,
   "id": "23427454-3f10-4ef3-92e6-d1cefd063a77",
   "metadata": {},
   "outputs": [],
   "source": []
  }
 ],
 "metadata": {
  "kernelspec": {
   "display_name": "Python 3 (ipykernel)",
   "language": "python",
   "name": "python3"
  },
  "language_info": {
   "codemirror_mode": {
    "name": "ipython",
    "version": 3
   },
   "file_extension": ".py",
   "mimetype": "text/x-python",
   "name": "python",
   "nbconvert_exporter": "python",
   "pygments_lexer": "ipython3",
   "version": "3.12.4"
  }
 },
 "nbformat": 4,
 "nbformat_minor": 5
}
