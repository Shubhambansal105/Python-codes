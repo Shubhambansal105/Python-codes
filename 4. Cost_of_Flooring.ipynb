{
 "cells": [
  {
   "cell_type": "code",
   "execution_count": 3,
   "id": "b8e00c58-c7e8-44b9-9df4-e576f922830d",
   "metadata": {},
   "outputs": [],
   "source": [
    "#Find Cost of Tile to Cover W x H Floor - \n",
    "#Calculate the total cost of tile it would take to cover a floor plan of width and height, using a cost entered by the user."
   ]
  },
  {
   "cell_type": "code",
   "execution_count": 42,
   "id": "fdfa6dfe-cace-48f5-80a4-ec954509e558",
   "metadata": {},
   "outputs": [],
   "source": [
    "import math\n",
    "def cost_of_flooring():\n",
    "    rate= input('What is the cost of tile per unit area')\n",
    "    while rate.isdigit() == False:\n",
    "        rate = input('Please enter correct values. What is the cost of tile per unit area')\n",
    "\n",
    "    width= input('What is the width of room?')\n",
    "    while width.isdigit() == False:\n",
    "        width = input('Please enter correct values. What is the width of room?')\n",
    "\n",
    "    height= input('What is the height of room?')\n",
    "    while height.isdigit() == False:\n",
    "        height = input('Please enter correct values. What is the height of room?')\n",
    "\n",
    "    cost = (int(width)*int(height))/(int(rate))\n",
    "    cost1=round(cost,2)\n",
    "    print(f'Cost of flooring will be {cost1}')\n",
    "    return cost1"
   ]
  },
  {
   "cell_type": "code",
   "execution_count": null,
   "id": "6d1c7ffa-38f3-44c0-bc11-ef95681552fc",
   "metadata": {},
   "outputs": [],
   "source": []
  }
 ],
 "metadata": {
  "kernelspec": {
   "display_name": "Python 3 (ipykernel)",
   "language": "python",
   "name": "python3"
  },
  "language_info": {
   "codemirror_mode": {
    "name": "ipython",
    "version": 3
   },
   "file_extension": ".py",
   "mimetype": "text/x-python",
   "name": "python",
   "nbconvert_exporter": "python",
   "pygments_lexer": "ipython3",
   "version": "3.12.4"
  }
 },
 "nbformat": 4,
 "nbformat_minor": 5
}
